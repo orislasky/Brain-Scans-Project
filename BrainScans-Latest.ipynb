{
 "cells": [
  {
   "cell_type": "code",
   "execution_count": 1,
   "metadata": {},
   "outputs": [
    {
     "name": "stdout",
     "output_type": "stream",
     "text": [
      "Collecting tensorflow==1.8.0\n",
      "  Using cached tensorflow-1.8.0-cp36-cp36m-manylinux1_x86_64.whl (49.1 MB)\n",
      "Requirement already satisfied, skipping upgrade: termcolor>=1.1.0 in /home/ec2-user/anaconda3/envs/amazonei_tensorflow_p36/lib/python3.6/site-packages (from tensorflow==1.8.0) (1.1.0)\n",
      "Requirement already satisfied, skipping upgrade: astor>=0.6.0 in /home/ec2-user/anaconda3/envs/amazonei_tensorflow_p36/lib/python3.6/site-packages (from tensorflow==1.8.0) (0.8.1)\n",
      "Requirement already satisfied, skipping upgrade: numpy>=1.13.3 in /home/ec2-user/anaconda3/envs/amazonei_tensorflow_p36/lib/python3.6/site-packages (from tensorflow==1.8.0) (1.18.1)\n",
      "Requirement already satisfied, skipping upgrade: six>=1.10.0 in /home/ec2-user/anaconda3/envs/amazonei_tensorflow_p36/lib/python3.6/site-packages (from tensorflow==1.8.0) (1.14.0)\n",
      "Requirement already satisfied, skipping upgrade: gast>=0.2.0 in /home/ec2-user/anaconda3/envs/amazonei_tensorflow_p36/lib/python3.6/site-packages (from tensorflow==1.8.0) (0.2.2)\n",
      "Requirement already satisfied, skipping upgrade: wheel>=0.26 in /home/ec2-user/anaconda3/envs/amazonei_tensorflow_p36/lib/python3.6/site-packages (from tensorflow==1.8.0) (0.34.2)\n",
      "Requirement already satisfied, skipping upgrade: protobuf>=3.4.0 in /home/ec2-user/anaconda3/envs/amazonei_tensorflow_p36/lib/python3.6/site-packages (from tensorflow==1.8.0) (3.13.0)\n",
      "Collecting tensorboard<1.9.0,>=1.8.0\n",
      "  Using cached tensorboard-1.8.0-py3-none-any.whl (3.1 MB)\n",
      "Requirement already satisfied, skipping upgrade: absl-py>=0.1.6 in /home/ec2-user/anaconda3/envs/amazonei_tensorflow_p36/lib/python3.6/site-packages (from tensorflow==1.8.0) (0.10.0)\n",
      "Requirement already satisfied, skipping upgrade: grpcio>=1.8.6 in /home/ec2-user/anaconda3/envs/amazonei_tensorflow_p36/lib/python3.6/site-packages (from tensorflow==1.8.0) (1.32.0)\n",
      "Requirement already satisfied, skipping upgrade: setuptools in /home/ec2-user/anaconda3/envs/amazonei_tensorflow_p36/lib/python3.6/site-packages (from protobuf>=3.4.0->tensorflow==1.8.0) (45.2.0.post20200210)\n",
      "Requirement already satisfied, skipping upgrade: werkzeug>=0.11.10 in /home/ec2-user/anaconda3/envs/amazonei_tensorflow_p36/lib/python3.6/site-packages (from tensorboard<1.9.0,>=1.8.0->tensorflow==1.8.0) (1.0.0)\n",
      "Requirement already satisfied, skipping upgrade: markdown>=2.6.8 in /home/ec2-user/anaconda3/envs/amazonei_tensorflow_p36/lib/python3.6/site-packages (from tensorboard<1.9.0,>=1.8.0->tensorflow==1.8.0) (3.2.2)\n",
      "Collecting bleach==1.5.0\n",
      "  Using cached bleach-1.5.0-py2.py3-none-any.whl (17 kB)\n",
      "Processing /home/ec2-user/.cache/pip/wheels/90/1c/cb/a87fd097ff74648ecc468a703001f6c7c86d8a71d459e65c98/html5lib-0.9999999-py3-none-any.whl\n",
      "Requirement already satisfied, skipping upgrade: importlib-metadata; python_version < \"3.8\" in /home/ec2-user/anaconda3/envs/amazonei_tensorflow_p36/lib/python3.6/site-packages (from markdown>=2.6.8->tensorboard<1.9.0,>=1.8.0->tensorflow==1.8.0) (1.5.0)\n",
      "Requirement already satisfied, skipping upgrade: zipp>=0.5 in /home/ec2-user/anaconda3/envs/amazonei_tensorflow_p36/lib/python3.6/site-packages (from importlib-metadata; python_version < \"3.8\"->markdown>=2.6.8->tensorboard<1.9.0,>=1.8.0->tensorflow==1.8.0) (2.2.0)\n",
      "\u001b[31mERROR: tensorflow-serving-api 1.15.0 has requirement tensorflow~=1.15.0, but you'll have tensorflow 1.8.0 which is incompatible.\u001b[0m\n",
      "Installing collected packages: html5lib, bleach, tensorboard, tensorflow\n",
      "  Attempting uninstall: html5lib\n",
      "    Found existing installation: html5lib 1.0.1\n",
      "    Uninstalling html5lib-1.0.1:\n",
      "      Successfully uninstalled html5lib-1.0.1\n",
      "  Attempting uninstall: bleach\n",
      "    Found existing installation: bleach 3.1.0\n",
      "    Uninstalling bleach-3.1.0:\n",
      "      Successfully uninstalled bleach-3.1.0\n",
      "  Attempting uninstall: tensorboard\n",
      "    Found existing installation: tensorboard 1.15.0\n",
      "    Uninstalling tensorboard-1.15.0:\n",
      "      Successfully uninstalled tensorboard-1.15.0\n",
      "  Attempting uninstall: tensorflow\n",
      "    Found existing installation: tensorflow 1.15.2\n",
      "    Uninstalling tensorflow-1.15.2:\n",
      "      Successfully uninstalled tensorflow-1.15.2\n",
      "Successfully installed bleach-1.5.0 html5lib-0.9999999 tensorboard-1.8.0 tensorflow-1.8.0\n",
      "\u001b[33mWARNING: You are using pip version 20.0.2; however, version 21.1.1 is available.\n",
      "You should consider upgrading via the '/home/ec2-user/anaconda3/envs/amazonei_tensorflow_p36/bin/python -m pip install --upgrade pip' command.\u001b[0m\n"
     ]
    }
   ],
   "source": [
    "\"\"\" use kernel tensorflow_p36 - NOT TF 2\"\"\"\n",
    "!pip install --upgrade tensorflow==1.8.0"
   ]
  },
  {
   "cell_type": "code",
   "execution_count": 2,
   "metadata": {},
   "outputs": [
    {
     "name": "stderr",
     "output_type": "stream",
     "text": [
      "/home/ec2-user/anaconda3/envs/amazonei_tensorflow_p36/lib/python3.6/site-packages/tensorflow/python/framework/dtypes.py:519: FutureWarning: Passing (type, 1) or '1type' as a synonym of type is deprecated; in a future version of numpy, it will be understood as (type, (1,)) / '(1,)type'.\n",
      "  _np_qint8 = np.dtype([(\"qint8\", np.int8, 1)])\n",
      "/home/ec2-user/anaconda3/envs/amazonei_tensorflow_p36/lib/python3.6/site-packages/tensorflow/python/framework/dtypes.py:520: FutureWarning: Passing (type, 1) or '1type' as a synonym of type is deprecated; in a future version of numpy, it will be understood as (type, (1,)) / '(1,)type'.\n",
      "  _np_quint8 = np.dtype([(\"quint8\", np.uint8, 1)])\n",
      "/home/ec2-user/anaconda3/envs/amazonei_tensorflow_p36/lib/python3.6/site-packages/tensorflow/python/framework/dtypes.py:521: FutureWarning: Passing (type, 1) or '1type' as a synonym of type is deprecated; in a future version of numpy, it will be understood as (type, (1,)) / '(1,)type'.\n",
      "  _np_qint16 = np.dtype([(\"qint16\", np.int16, 1)])\n",
      "/home/ec2-user/anaconda3/envs/amazonei_tensorflow_p36/lib/python3.6/site-packages/tensorflow/python/framework/dtypes.py:522: FutureWarning: Passing (type, 1) or '1type' as a synonym of type is deprecated; in a future version of numpy, it will be understood as (type, (1,)) / '(1,)type'.\n",
      "  _np_quint16 = np.dtype([(\"quint16\", np.uint16, 1)])\n",
      "/home/ec2-user/anaconda3/envs/amazonei_tensorflow_p36/lib/python3.6/site-packages/tensorflow/python/framework/dtypes.py:523: FutureWarning: Passing (type, 1) or '1type' as a synonym of type is deprecated; in a future version of numpy, it will be understood as (type, (1,)) / '(1,)type'.\n",
      "  _np_qint32 = np.dtype([(\"qint32\", np.int32, 1)])\n",
      "/home/ec2-user/anaconda3/envs/amazonei_tensorflow_p36/lib/python3.6/site-packages/tensorflow/python/framework/dtypes.py:528: FutureWarning: Passing (type, 1) or '1type' as a synonym of type is deprecated; in a future version of numpy, it will be understood as (type, (1,)) / '(1,)type'.\n",
      "  np_resource = np.dtype([(\"resource\", np.ubyte, 1)])\n"
     ]
    }
   ],
   "source": [
    "import cv2\n",
    "import numpy as np\n",
    "import os\n",
    "import sys\n",
    "import tensorflow as tf \n",
    "\n",
    "from sklearn.model_selection import train_test_split\n",
    "\n",
    "EPOCHS = 20\n",
    "IMG_WIDTH = 224\n",
    "IMG_HEIGHT = 224\n",
    "NUM_CATEGORIES = 2\n",
    "TEST_SIZE = 0.2"
   ]
  },
  {
   "cell_type": "code",
   "execution_count": 3,
   "metadata": {},
   "outputs": [],
   "source": [
    "def load_data(data_dir):\n",
    "    \"\"\"\n",
    "    Load image data from directory `data_dir`.\n",
    "\n",
    "    Assume `data_dir` has one directory named after each category, numbered\n",
    "    0 through NUM_CATEGORIES - 1. Inside each category directory will be some\n",
    "    number of image files.\n",
    "\n",
    "    Return tuple `(images, labels)`. `images` should be a list of all\n",
    "    of the images in the data directory, where each image is formatted as a\n",
    "    numpy ndarray with dimensions IMG_WIDTH x IMG_HEIGHT x 3. `labels` should\n",
    "    be a list of integer labels, representing the categories for each of the\n",
    "    corresponding `images`.\n",
    "    \"\"\"\n",
    "    images = []\n",
    "    labels=[]\n",
    "    counter = 0\n",
    "    for labelname in os.listdir(data_dir):\n",
    "        path= data_dir + \"/\" + labelname \n",
    "        for pic in os.listdir(path):\n",
    "            path2= data_dir + \"/\" + labelname + \"/\" + pic\n",
    "            img= cv2.imread(path2)\n",
    "            #print (\"path- \", path)\n",
    "            #print (\"path2- \", path2)\n",
    "            re_img=cv2.resize(img,(IMG_WIDTH,IMG_HEIGHT))\n",
    "            images.append(re_img)\n",
    "            labels.append(labelname)\n",
    "            counter= counter+1\n",
    "    print(counter) \n",
    "    return (images,labels)\n",
    "\n",
    "\n",
    "def get_model():\n",
    "    \"\"\"\n",
    "    Returns a compiled convolutional neural network model. Assume that the\n",
    "    `input_shape` of the first layer is `(IMG_WIDTH, IMG_HEIGHT, 3)`.\n",
    "    The output layer should have `NUM_CATEGORIES` units, one for each category.\n",
    "        \"\"\"\n",
    "# Create a convolutional neural network\n",
    "    model = tf.keras.models.Sequential([\n",
    "\n",
    "         # Convolutional layer. Learn 32 filters using a 3x3 kernel\n",
    "         tf.keras.layers.Conv2D(\n",
    "             32, (3, 3), activation=\"relu\", padding = \"same\", input_shape=(IMG_WIDTH, IMG_HEIGHT, 3)\n",
    "         ),\n",
    "\n",
    "\n",
    "         # Max-pooling layer, using 3x3 pool size\n",
    "         tf.keras.layers.MaxPooling2D(pool_size=(4, 4)),\n",
    "         tf.keras.layers.Dropout(0.2),\n",
    "        \n",
    "        tf.keras.layers.Conv2D(\n",
    "             64, (3, 3), activation=\"relu\", padding = \"same\", input_shape=(IMG_WIDTH, IMG_HEIGHT, 3)\n",
    "         ),\n",
    "\n",
    "\n",
    "         # Max-pooling layer, using 3x3 pool size\n",
    "         tf.keras.layers.MaxPooling2D(pool_size=(3, 3)),\n",
    "         tf.keras.layers.Dropout(0.2),\n",
    "         \n",
    "\n",
    "         # Flatten units\n",
    "         tf.keras.layers.Flatten(),\n",
    "         tf.keras.layers.Dropout(0.2),\n",
    "        \n",
    "        \n",
    "\n",
    "         # Add a hidden layer with dropout\n",
    "         tf.keras.layers.Dense(64, activation=\"relu\"),\n",
    "         tf.keras.layers.Dropout(0.1),\n",
    "        \n",
    "         # Add a hidden layer with dropout\n",
    "         tf.keras.layers.Dense(64, activation=\"relu\"),\n",
    "         tf.keras.layers.Dropout(0.1),\n",
    "         \n",
    "         # Flatten units\n",
    "         tf.keras.layers.Flatten(),\n",
    "         tf.keras.layers.Dropout(0.1),\n",
    "        \n",
    "        # Add a hidden layer with dropout\n",
    "         tf.keras.layers.Dense(32, activation=\"relu\"),\n",
    "         tf.keras.layers.Dropout(0.1),\n",
    "        \n",
    "        # Add a hidden layer with dropout\n",
    "         tf.keras.layers.Dense(32, activation=\"relu\"),\n",
    "         tf.keras.layers.Dropout(0.1),\n",
    "        \n",
    "        # Add a hidden layer with dropout\n",
    "         tf.keras.layers.Dense(32, activation=\"relu\"),\n",
    "        \n",
    "        # Add a hidden layer with dropout\n",
    "         tf.keras.layers.Dense(64, activation=\"relu\"),\n",
    "         tf.keras.layers.Dropout(0.1),\n",
    "         \n",
    "         # Flatten units\n",
    "         tf.keras.layers.Flatten(),\n",
    "         tf.keras.layers.Dropout(0.1),\n",
    "        \n",
    "        # Add a hidden layer with dropout\n",
    "         tf.keras.layers.Dense(32, activation=\"relu\"),\n",
    "         tf.keras.layers.Dropout(0.1),\n",
    "        \n",
    "        # Add a hidden layer with dropout\n",
    "         tf.keras.layers.Dense(32, activation=\"relu\"),\n",
    "         tf.keras.layers.Dropout(0.1),\n",
    "        \n",
    "        \n",
    "\n",
    "        # Add a hidden layer with dropout\n",
    "         tf.keras.layers.Dense(16, activation=\"relu\"),\n",
    "         tf.keras.layers.Dropout(0.1),\n",
    "         \n",
    "         # Add an output layer with number of categories\n",
    "         tf.keras.layers.Dense(2, activation=\"softmax\")\n",
    "     ])\n",
    "\n",
    "# Train neural network\n",
    "    model.compile(\n",
    "         optimizer=\"adam\",\n",
    "         loss=\"categorical_crossentropy\",\n",
    "         metrics=[\"accuracy\"]\n",
    "   )\n",
    "\n",
    "    return model\n",
    "\n"
   ]
  },
  {
   "cell_type": "code",
   "execution_count": 4,
   "metadata": {},
   "outputs": [
    {
     "name": "stdout",
     "output_type": "stream",
     "text": [
      "253\n"
     ]
    }
   ],
   "source": [
    "# Get image arrays and labels for all image files\n",
    "    images, labels = load_data(\"/home/ec2-user/SageMaker/BrainScans/brain\")\n",
    "\n",
    "    labels = tf.keras.utils.to_categorical(labels)\n",
    "    x_train, x_test, y_train, y_test = train_test_split(\n",
    "        np.array(images), np.array(labels), test_size=TEST_SIZE)\n"
   ]
  },
  {
   "cell_type": "code",
   "execution_count": null,
   "metadata": {},
   "outputs": [],
   "source": []
  },
  {
   "cell_type": "code",
   "execution_count": 5,
   "metadata": {},
   "outputs": [],
   "source": [
    "model = get_model()\n"
   ]
  },
  {
   "cell_type": "code",
   "execution_count": 6,
   "metadata": {},
   "outputs": [
    {
     "name": "stdout",
     "output_type": "stream",
     "text": [
      "Epoch 1/20\n",
      "202/202 [==============================] - 6s 28ms/step - loss: 5.1365 - acc: 0.6089\n",
      "Epoch 2/20\n",
      "202/202 [==============================] - 5s 23ms/step - loss: 3.3433 - acc: 0.5693\n",
      "Epoch 3/20\n",
      "202/202 [==============================] - 5s 23ms/step - loss: 0.9140 - acc: 0.5792\n",
      "Epoch 4/20\n",
      "202/202 [==============================] - 5s 23ms/step - loss: 0.7006 - acc: 0.4851\n",
      "Epoch 5/20\n",
      "202/202 [==============================] - 5s 24ms/step - loss: 0.6982 - acc: 0.5000\n",
      "Epoch 6/20\n",
      "202/202 [==============================] - 5s 23ms/step - loss: 0.6940 - acc: 0.5347\n",
      "Epoch 7/20\n",
      "202/202 [==============================] - 5s 23ms/step - loss: 0.6949 - acc: 0.5099\n",
      "Epoch 8/20\n",
      "202/202 [==============================] - 5s 23ms/step - loss: 0.6477 - acc: 0.6238\n",
      "Epoch 9/20\n",
      "202/202 [==============================] - 5s 23ms/step - loss: 0.6259 - acc: 0.6634\n",
      "Epoch 10/20\n",
      "202/202 [==============================] - 5s 23ms/step - loss: 0.5906 - acc: 0.6584\n",
      "Epoch 11/20\n",
      "202/202 [==============================] - 5s 23ms/step - loss: 0.5986 - acc: 0.6535\n",
      "Epoch 12/20\n",
      "202/202 [==============================] - 5s 24ms/step - loss: 0.5608 - acc: 0.6485\n",
      "Epoch 13/20\n",
      "202/202 [==============================] - 5s 23ms/step - loss: 0.5412 - acc: 0.6832\n",
      "Epoch 14/20\n",
      "202/202 [==============================] - 5s 23ms/step - loss: 0.5335 - acc: 0.6832\n",
      "Epoch 15/20\n",
      "202/202 [==============================] - 5s 22ms/step - loss: 0.5249 - acc: 0.6832\n",
      "Epoch 16/20\n",
      "202/202 [==============================] - 5s 22ms/step - loss: 0.5146 - acc: 0.7030\n",
      "Epoch 17/20\n",
      "202/202 [==============================] - 5s 23ms/step - loss: 0.5418 - acc: 0.6931\n",
      "Epoch 18/20\n",
      "202/202 [==============================] - 5s 23ms/step - loss: 0.5025 - acc: 0.7426\n",
      "Epoch 19/20\n",
      "202/202 [==============================] - 5s 23ms/step - loss: 0.4784 - acc: 0.7624\n",
      "Epoch 20/20\n",
      "202/202 [==============================] - 5s 22ms/step - loss: 0.5273 - acc: 0.7327\n",
      "95.52096104621887\n"
     ]
    }
   ],
   "source": [
    "import time\n",
    "\n",
    "start = time.time()\n",
    "\n",
    "# Fit model on training data\n",
    "model_history = model.fit(x_train, y_train, epochs=EPOCHS)\n",
    "\n",
    "end = time.time()\n",
    "print(end - start)"
   ]
  },
  {
   "cell_type": "code",
   "execution_count": 8,
   "metadata": {},
   "outputs": [
    {
     "name": "stdout",
     "output_type": "stream",
     "text": [
      "51/51 [==============================] - 0s 9ms/step\n"
     ]
    },
    {
     "data": {
      "text/plain": [
       "[0.6589848258916069, 0.7843137278276331]"
      ]
     },
     "execution_count": 8,
     "metadata": {},
     "output_type": "execute_result"
    }
   ],
   "source": [
    "   # Evaluate neural network performance\n",
    "    model.evaluate(x_test,  y_test, verbose=1)"
   ]
  },
  {
   "cell_type": "code",
   "execution_count": 9,
   "metadata": {},
   "outputs": [],
   "source": [
    "#model.summary()"
   ]
  },
  {
   "cell_type": "code",
   "execution_count": 8,
   "metadata": {},
   "outputs": [],
   "source": [
    "model.save(\"model-latest1\")"
   ]
  }
 ],
 "metadata": {
  "kernelspec": {
   "display_name": "conda_tensorflow_p36",
   "language": "python",
   "name": "conda_tensorflow_p36"
  },
  "language_info": {
   "codemirror_mode": {
    "name": "ipython",
    "version": 3
   },
   "file_extension": ".py",
   "mimetype": "text/x-python",
   "name": "python",
   "nbconvert_exporter": "python",
   "pygments_lexer": "ipython3",
   "version": "3.6.10"
  }
 },
 "nbformat": 4,
 "nbformat_minor": 4
}
